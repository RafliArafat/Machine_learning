{
  "cells": [
    {
      "cell_type": "markdown",
      "metadata": {
        "id": "bIq2cxYQqur7"
      },
      "source": [
        "# UJIAN TENGAH SEMESTER 2024-2025\n",
        "# Pembelajaran Mesin\n",
        "Klasifikasi Neural Network (NN) Pada Data Citra\n",
        "# Intro\n",
        "\n",
        "Pada UTS ini, Anda diminta untuk melakukan klasifikasi citra wajah dengan menggunakan dataset Casia-Webface (Data dapat diunduh pada Kaggle).\n",
        "Anda diperbolehkan melakukan eksplorasi terhadap:\n",
        "1. Metode pra pengolahan\n",
        "2. Pemilihan fitur\n",
        "3. Arsitektur ANN\n",
        "4. Fungsi Aktiviasi\n",
        "5. Metric Evaluasi\n",
        "\n",
        "---\n",
        "## Kelompok\n",
        "1. Asyifa Nurfadilah (2241720257)\n",
        "2. Mochamad Imam Hanafi (2241720151)\n",
        "3. Ravsanjani Rafli Arafat (2241720121)\n",
        "4. Sony Febri Hari Wibowo (2241720202)"
      ]
    },
    {
      "cell_type": "markdown",
      "metadata": {
        "id": "-5tG4Wyequr-"
      },
      "source": [
        "# Preparation"
      ]
    },
    {
      "cell_type": "code",
      "execution_count": null,
      "metadata": {
        "id": "MSVZiFUCqur_"
      },
      "outputs": [],
      "source": [
        "import numpy as np\n",
        "import pandas as pd\n",
        "import matplotlib.pyplot as plt\n",
        "import seaborn as sns\n",
        "import tensorflow as tf\n",
        "import os\n",
        "from PIL import Image\n",
        "from tensorflow.keras.preprocessing.image import ImageDataGenerator\n",
        "from tensorflow.keras.models import Sequential\n",
        "from tensorflow.keras.layers import Dense, Flatten, Dropout\n",
        "from tensorflow.keras.utils import to_categorical\n",
        "from sklearn.model_selection import train_test_split\n",
        "from sklearn.metrics import classification_report, confusion_matrix"
      ]
    },
    {
      "cell_type": "markdown",
      "metadata": {
        "id": "XLQr92F4qur_"
      },
      "source": [
        "# Load Data"
      ]
    },
    {
      "cell_type": "code",
      "execution_count": null,
      "metadata": {
        "id": "ySsojAnaqur_"
      },
      "outputs": [],
      "source": [
        "'''\n",
        "    Pada bagian ini Anda dapat memuat dataset Casia-Webface dan visualisasi data.\n",
        "'''"
      ]
    },
    {
      "cell_type": "markdown",
      "metadata": {
        "id": "Ql3djXvmqusA"
      },
      "source": [
        "# Preprocessing"
      ]
    },
    {
      "cell_type": "code",
      "execution_count": null,
      "metadata": {
        "id": "CImvcPGRqusA"
      },
      "outputs": [],
      "source": [
        "'''\n",
        "    Pada bagian ini Anda diperbolehkan untuk melakukan proses pra pengolahan data (preprocessing) sesuai dengan kebutuhan. Pra pengolahan data dapat berupa,\n",
        "\n",
        "    1. Standardisasi nilai fitur ataupun label\n",
        "    2. Penyesuaian ukuran gambar\n",
        "    3. Perubahan colorspace gambar\n",
        "    4. dsb\n",
        "'''"
      ]
    },
    {
      "cell_type": "markdown",
      "metadata": {
        "id": "W4qkYHwuqusA"
      },
      "source": [
        "# Build Model"
      ]
    },
    {
      "cell_type": "code",
      "execution_count": null,
      "metadata": {
        "id": "VlXEipq5qusA"
      },
      "outputs": [],
      "source": [
        "'''\n",
        "    Pada bagian ini lakukan proses pembuatan model,\n",
        "\n",
        "    1. Pembuatan input layer, hidden layer, output layer\n",
        "    2. Menentukan fungsi aktivasi\n",
        "    3. Compile Model (Menentukan optimizer, loss, metrics)\n",
        "    3. Proses fitting model\n",
        "'''"
      ]
    },
    {
      "cell_type": "markdown",
      "metadata": {
        "id": "g4CAa8WbqusA"
      },
      "source": [
        "# Evaluation"
      ]
    },
    {
      "cell_type": "code",
      "execution_count": null,
      "metadata": {
        "id": "wyCd5qGequsA"
      },
      "outputs": [],
      "source": [
        "'''\n",
        "    Pada bagian ini, lakukan evaluasi terhadap data training dan data testing\n",
        "'''"
      ]
    }
  ],
  "metadata": {
    "kernelspec": {
      "display_name": "base",
      "language": "python",
      "name": "python3"
    },
    "language_info": {
      "name": "python",
      "version": "3.12.4"
    },
    "colab": {
      "provenance": []
    }
  },
  "nbformat": 4,
  "nbformat_minor": 0
}